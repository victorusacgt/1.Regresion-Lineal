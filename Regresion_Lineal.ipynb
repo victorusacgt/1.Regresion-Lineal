{
 "cells": [
  {
   "cell_type": "markdown",
   "metadata": {},
   "source": [
    "# Regresión Lineal"
   ]
  },
  {
   "cell_type": "code",
   "execution_count": 2,
   "metadata": {},
   "outputs": [],
   "source": [
    "import tensorflow as tf, numpy as np, matplotlib.pyplot as plt"
   ]
  },
  {
   "cell_type": "markdown",
   "metadata": {},
   "source": [
    "#### Cargando el data_set"
   ]
  },
  {
   "cell_type": "code",
   "execution_count": 7,
   "metadata": {},
   "outputs": [],
   "source": [
    "data_set = np.load(\"proyecto_training_data.npy\").astype(np.float32)\n",
    "data_X1 = data_set[:,1] #OverallQual\n",
    "data_X2 = data_set[:, 2] #1stFlrSF\n",
    "data_Y = data_set[::,0] #SalesPrice"
   ]
  },
  {
   "cell_type": "markdown",
   "metadata": {},
   "source": [
    "#### Del proyecto las variables seleccionadas fueron:\n",
    "\n",
    "* OverallQual\n",
    "* 1stFlrSF"
   ]
  },
  {
   "cell_type": "markdown",
   "metadata": {},
   "source": [
    "### Grafo"
   ]
  },
  {
   "cell_type": "code",
   "execution_count": 9,
   "metadata": {},
   "outputs": [],
   "source": [
    "tf.reset_default_graph()\n",
    "\n",
    "grafo = tf.Graph()\n",
    "with grafo.as_default():\n",
    "    X = tf.placeholder(\"float\", name = \"X\") \n",
    "    Y = tf.placeholder(\"float\", name = \"Y\") \n",
    "    lr = tf.placeholder(\"float\", name = \"learning_rate\")\n",
    "    W = tf.Variable(0, name = \"W\", dtype=\"float\")\n",
    "    b = tf.Variable(0, name = \"b\", dtype=\"float\")\n",
    "    with tf.name_scope(\"y_hat\") as scope:\n",
    "        y_hat = tf.multiply(X, W) + b\n",
    "    with tf.name_scope(\"costo\") as scope:\n",
    "        cost = tf.reduce_mean(tf.pow(y_hat - Y, 2))*0.5\n",
    "    cost_summary = tf.summary.scalar(\"cost\", cost)\n",
    "    optimizer = tf.train.GradientDescentOptimizer(lr).minimize(cost)\n",
    "    init = tf.global_variables_initializer()"
   ]
  },
  {
   "cell_type": "code",
   "execution_count": 20,
   "metadata": {},
   "outputs": [],
   "source": [
    "def regresion_lineal(data_x, data_y, l_r, t_epoch, display_epoch, name):\n",
    "    with tf.Session(graph = grafo) as sess:\n",
    "        writer = tf.summary.FileWriter(\"./graphs/lr_\" + str(l_r) + \"_\" + name, sess.graph)\n",
    "        sess.run(init)\n",
    "        for epoch in range(t_epoch):\n",
    "            sess.run(optimizer, feed_dict = {X : data_x, Y : data_Y, lr : l_r})\n",
    "            if (epoch + 1) % 10 == 0:\n",
    "                c_sum, costo, weights, bias = sess.run([cost_summary, cost, W, b],feed_dict = {X : data_x, Y : data_y, \\\n",
    "                                                                                               lr : l_r}) \n",
    "                writer.add_summary(c_sum, epoch + 1)\n",
    "            if (epoch + 1) % display_epoch == 0:\n",
    "                c_sum, costo, weights, bias = sess.run([cost_summary, cost, W, b],feed_dict = {X : data_x, Y : data_y, \\\n",
    "                                                                                               lr : l_r})\n",
    "                print(\"Epoch: \", (epoch + 1), \"Costo: \", costo, \"W: \", weights, \"b: \", bias)\n",
    "                print(\"----------------------------------------------\")\n",
    "        writer.close()\n",
    "        return [weights, bias]"
   ]
  },
  {
   "cell_type": "markdown",
   "metadata": {},
   "source": [
    "## Hipotesis:\n",
    "* Se escogieron varios valores de learning rate para cada prueba.\n",
    "* Se espera que el cuando lr = 0.00001 y lr = 0.000001 el costo disminuya lentamente, por lo que se necesitaran más iteraciones.\n",
    "* El valor optimo podría encontrarse en rango de lr = 0.001 y lr = 0.0001\n",
    "* Cuando lr = 0.1 puede que sean pasos muy grandes."
   ]
  },
  {
   "cell_type": "code",
   "execution_count": 25,
   "metadata": {},
   "outputs": [],
   "source": [
    "resultado = []\n",
    "learning_rates = [0.1, 0.01, 0.001, 0.0001, 0.00001, 0.000001]"
   ]
  },
  {
   "cell_type": "markdown",
   "metadata": {},
   "source": [
    "### obteniendo resultados de cada experimento utilizando la variable OverallQual para X"
   ]
  },
  {
   "cell_type": "code",
   "execution_count": 29,
   "metadata": {},
   "outputs": [
    {
     "name": "stdout",
     "output_type": "stream",
     "text": [
      "Epoch:  10000 Costo:  nan W:  nan b:  nan\n",
      "----------------------------------------------\n",
      "Epoch:  10000 Costo:  1180484900.0 W:  45302.492 b:  -95352.26\n",
      "----------------------------------------------\n",
      "Epoch:  10000 Costo:  1276168000.0 W:  35664.664 b:  -33623.33\n",
      "----------------------------------------------\n",
      "Epoch:  10000 Costo:  1406334000.0 W:  30424.77 b:  -61.862965\n",
      "----------------------------------------------\n",
      "Epoch:  10000 Costo:  1432565800.0 W:  29226.336 b:  4071.5085\n",
      "----------------------------------------------\n",
      "Epoch:  10000 Costo:  9546637000.0 W:  9809.271 b:  1482.2653\n",
      "----------------------------------------------\n"
     ]
    }
   ],
   "source": [
    "for num, lrate in enumerate(learning_rates):\n",
    "    resultado.append(regresion_lineal(data_X1, data_Y, lrate, 10000, 10000, str(num)))"
   ]
  },
  {
   "cell_type": "markdown",
   "metadata": {},
   "source": [
    "![Grafo](grafo.png)"
   ]
  },
  {
   "cell_type": "markdown",
   "metadata": {},
   "source": [
    "![graficas](l_r.png)"
   ]
  },
  {
   "cell_type": "markdown",
   "metadata": {},
   "source": [
    "## Conclusiones"
   ]
  },
  {
   "cell_type": "markdown",
   "metadata": {},
   "source": [
    "* Al analizar el patrón de resultado del entrenamiento el valor 0.1 no converge debido a que da pasos muy grandes.\n",
    "\n",
    "* Cuando lr = 0.01 se puede observar que el costo dismunuye con mucha rápidez dejandolo como el hiperparametro de preferencia para entrenar el modelo.\n",
    "\n",
    "* Los valores por debajo de lr = 0.01 necesitan más iteraciones para disminuir el costo del modelo."
   ]
  }
 ],
 "metadata": {
  "kernelspec": {
   "display_name": "Python 3",
   "language": "python",
   "name": "python3"
  },
  "language_info": {
   "codemirror_mode": {
    "name": "ipython",
    "version": 3
   },
   "file_extension": ".py",
   "mimetype": "text/x-python",
   "name": "python",
   "nbconvert_exporter": "python",
   "pygments_lexer": "ipython3",
   "version": "3.7.7"
  }
 },
 "nbformat": 4,
 "nbformat_minor": 4
}
